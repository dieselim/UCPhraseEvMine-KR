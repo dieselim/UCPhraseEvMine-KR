{
 "cells": [
  {
   "cell_type": "code",
   "execution_count": 1,
   "metadata": {},
   "outputs": [
    {
     "name": "stderr",
     "output_type": "stream",
     "text": [
      "Some weights of the model checkpoint at bert-base-uncased were not used when initializing BertModel: ['cls.predictions.transform.dense.bias', 'cls.seq_relationship.weight', 'cls.predictions.decoder.weight', 'cls.predictions.transform.LayerNorm.bias', 'cls.predictions.transform.dense.weight', 'cls.predictions.transform.LayerNorm.weight', 'cls.seq_relationship.bias', 'cls.predictions.bias']\n",
      "- This IS expected if you are initializing BertModel from the checkpoint of a model trained on another task or with another architecture (e.g. initializing a BertForSequenceClassification model from a BertForPreTraining model).\n",
      "- This IS NOT expected if you are initializing BertModel from the checkpoint of a model that you expect to be exactly identical (initializing a BertForSequenceClassification model from a BertForSequenceClassification model).\n",
      "1675it [00:19, 86.56it/s] \n",
      "100%|██████████| 767/767 [14:05<00:00,  1.10s/it]\n",
      "100%|██████████| 767/767 [13:42<00:00,  1.07s/it]\n"
     ]
    },
    {
     "data": {
      "text/plain": [
       "CompletedProcess(args=['python', 'phrase_emb.py', '--data', 'hkprotest', '--ucphrase_res', 'doc2sents-0.9-tokenized.id.json', '--doc_time', 'doc2time.txt', '--out', 'phrase_emb'], returncode=0)"
      ]
     },
     "execution_count": 1,
     "metadata": {},
     "output_type": "execute_result"
    }
   ],
   "source": [
    "import subprocess\n",
    "\n",
    "import os\n",
    "\n",
    "imac = '/Users/im-yukyung/Desktop/KISDI/EvMine/EvMine-main'\n",
    "mac = '/Users/lim-yugyeong/Desktop/KISDI/EvMine/EvMine-main'\n",
    "# Change the directory to 'src'\n",
    "os.chdir(imac)\n",
    "\n",
    "subprocess.run([\n",
    "    \"python\", \"phrase_emb.py\",\n",
    "    \"--data\", \"hkprotest\",\n",
    "    \"--ucphrase_res\", \"doc2sents-0.9-tokenized.id.json\",\n",
    "    \"--doc_time\", \"doc2time.txt\",\n",
    "    \"--out\", \"phrase_emb\"\n",
    "], stdout=None, stderr=None, text=True)"
   ]
  }
 ],
 "metadata": {
  "kernelspec": {
   "display_name": "base",
   "language": "python",
   "name": "python3"
  },
  "language_info": {
   "codemirror_mode": {
    "name": "ipython",
    "version": 3
   },
   "file_extension": ".py",
   "mimetype": "text/x-python",
   "name": "python",
   "nbconvert_exporter": "python",
   "pygments_lexer": "ipython3",
   "version": "3.11.4"
  }
 },
 "nbformat": 4,
 "nbformat_minor": 2
}
